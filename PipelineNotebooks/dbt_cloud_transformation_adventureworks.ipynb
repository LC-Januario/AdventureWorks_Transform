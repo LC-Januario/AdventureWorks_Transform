{
 "cells": [
  {
   "cell_type": "code",
   "execution_count": 0,
   "metadata": {
    "application/vnd.databricks.v1+cell": {
     "cellMetadata": {
      "byteLimit": 2048000,
      "rowLimit": 10000
     },
     "inputWidgets": {},
     "nuid": "c7c1bc16-cfb4-4481-9be0-bd4c86de12a6",
     "showTitle": false,
     "tableResultSettingsMap": {},
     "title": ""
    }
   },
   "outputs": [
    {
     "output_type": "stream",
     "name": "stdout",
     "output_type": "stream",
     "text": [
      "job_run_id = 70471840047378\n3\n3\n3\n3\n3\n3\n3\n3\n3\n3\n3\n3\n3\n3\n3\n3\n3\n3\n3\n3\n3\n3\n10\n"
     ]
    }
   ],
   "source": [
    "import requests\n",
    "import time\n",
    "import enum\n",
    "import os\n",
    "import time\n",
    "import json\n",
    "import requests\n",
    "from getpass import getpass\n",
    "     \n",
    "job_id = dbutils.secrets.get(scope = \"dbtcreds\", key = \"job_id\")\n",
    "account_id = dbutils.secrets.get(scope = \"dbtcreds\", key = \"account_id\")\n",
    "base_url =  dbutils.secrets.get(scope = \"dbtcreds\", key = \"base_url\")\n",
    "api_key =  dbutils.secrets.get(scope = \"dbtcreds\", key = \"api_key\")\n",
    "\n",
    "# These are documented on the dbt API docs\n",
    "class DbtJobRunStatus(enum.IntEnum):\n",
    "    QUEUED = 1\n",
    "    STARTING = 2\n",
    "    RUNNING = 3\n",
    "    SUCCESS = 10\n",
    "    ERROR = 20\n",
    "    CANCELLED = 30\n",
    "\n",
    "def _trigger_job() -> int:\n",
    "    res = requests.post(\n",
    "        url=f\"https://{base_url}/api/v2/accounts/{account_id}/jobs/{job_id}/run/\",\n",
    "        headers={'Authorization': f\"Token {api_key}\"},\n",
    "        json={\n",
    "            # Optionally pass a description that can be viewed within the <Constant name=\"cloud\" /> API.\n",
    "            # See the API docs for additional parameters that can be passed in,\n",
    "            # including `schema_override` \n",
    "            'cause': f\"Triggered by Databricks Workflows.\",\n",
    "        }\n",
    "    )\n",
    "\n",
    "    try:\n",
    "        res.raise_for_status()\n",
    "    except:\n",
    "        print(f\"API token (last four): ...{api_key[-4:]}\")\n",
    "        raise\n",
    "\n",
    "    response_payload = res.json()\n",
    "    return response_payload['data']['id']\n",
    "\n",
    "def _get_job_run_status(job_run_id):\n",
    "    res = requests.get(\n",
    "        url=f\"https://{base_url}/api/v2/accounts/{account_id}/runs/{job_run_id}/\",\n",
    "        headers={'Authorization': f\"Token {api_key}\"},\n",
    "    )\n",
    "\n",
    "    res.raise_for_status()\n",
    "    response_payload = res.json()\n",
    "    return response_payload['data']['status']\n",
    "\n",
    "def run():\n",
    "    job_run_id = _trigger_job()\n",
    "    print(f\"job_run_id = {job_run_id}\")   \n",
    "    while True:\n",
    "        time.sleep(5)\n",
    "        status = _get_job_run_status(job_run_id)\n",
    "        print(DbtJobRunStatus(status))\n",
    "        if status == DbtJobRunStatus.SUCCESS:\n",
    "            break\n",
    "        elif status == DbtJobRunStatus.ERROR or status == DbtJobRunStatus.CANCELLED:\n",
    "            raise Exception(\"Failure!\")\n",
    "\n",
    "if __name__ == '__main__':\n",
    "    run()"
   ]
  }
 ],
 "metadata": {
  "application/vnd.databricks.v1+notebook": {
   "computePreferences": null,
   "dashboards": [],
   "environmentMetadata": {
    "base_environment": "",
    "environment_version": "2"
   },
   "inputWidgetPreferences": null,
   "language": "python",
   "notebookMetadata": {
    "pythonIndentUnit": 4
   },
   "notebookName": "dbt_cloud_transformation_adventureworks",
   "widgets": {}
  },
  "language_info": {
   "name": "python"
  }
 },
 "nbformat": 4,
 "nbformat_minor": 0
}