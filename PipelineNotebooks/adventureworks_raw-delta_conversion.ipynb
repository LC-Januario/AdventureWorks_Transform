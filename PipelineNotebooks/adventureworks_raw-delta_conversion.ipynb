{
 "cells": [
  {
   "cell_type": "code",
   "execution_count": 0,
   "metadata": {
    "application/vnd.databricks.v1+cell": {
     "cellMetadata": {
      "byteLimit": 2048000,
      "rowLimit": 10000
     },
     "inputWidgets": {},
     "nuid": "679c9df2-38e0-40f9-b2ab-ddee825a574c",
     "showTitle": false,
     "tableResultSettingsMap": {},
     "title": ""
    }
   },
   "outputs": [],
   "source": [
    "# Importações necessárias\n",
    "import os  # Não está sendo usado no código — pode ser removido se não for necessário futuramente\n",
    "from pyspark.sql.utils import AnalysisException  # Importação específica que também não está sendo usada diretamente\n",
    "\n",
    "# Caminho onde estão os arquivos .parquet\n",
    "volume_path = \"/Volumes/ted_dev/dbt_adventureworks_raw/raw\"\n",
    "\n",
    "# Validação da estrutura do caminho e extração de catálogo e schema\n",
    "try:\n",
    "    path_parts = volume_path.strip(\"/\").split(\"/\")  # Divide o caminho em partes ignorando barras iniciais/finais\n",
    "    if len(path_parts) < 4 or path_parts[0] != \"Volumes\":  # Verifica se o caminho tem estrutura esperada\n",
    "        raise ValueError(\"Invalid path\")  # Erro se estrutura estiver incorreta\n",
    "    catalog_name = path_parts[1]  # Nome do catálogo\n",
    "    schema_name = path_parts[2]   # Nome do schema\n",
    "except Exception as e:\n",
    "    raise ValueError(f\"error\")  # Exceção genérica — seria melhor incluir a mensagem do erro\n",
    "\n",
    "# Listagem dos arquivos dentro do volume especificado\n",
    "try:\n",
    "    all_files = dbutils.fs.ls(volume_path)  # Lista arquivos e diretórios no caminho\n",
    "except Exception as e:\n",
    "    raise Exception(f\"Error\")  # Exceção genérica — poderia ser mais informativa\n",
    "\n",
    "# Iteração sobre os arquivos encontrados\n",
    "for file_info in all_files:\n",
    "\n",
    "    # Verifica se o item é um arquivo (não diretório) e se é um arquivo .parquet\n",
    "    if not file_info.isDir() and file_info.name.endswith(\".parquet\"):\n",
    "\n",
    "        source_file_path = file_info.path  # Caminho completo do arquivo .parquet\n",
    "        table_name = file_info.name.removesuffix(\".parquet\")  # Nome da tabela extraído do nome do arquivo\n",
    "\n",
    "        try:\n",
    "            df = spark.read.parquet(source_file_path)  # Leitura do arquivo .parquet em um DataFrame Spark\n",
    "\n",
    "            # Monta o nome completo da tabela usando catálogo, schema e nome da tabela\n",
    "            full_table_name = f\"`{catalog_name}`.`{schema_name}`.`{table_name}`\"\n",
    "\n",
    "            # Escrita do DataFrame como tabela no metastore usando modo overwrite\n",
    "            df.write.mode(\"overwrite\").saveAsTable(full_table_name)\n",
    "\n",
    "        except Exception as e:\n",
    "            print(f\"error\")  # Exceção genérica — poderia logar detalhes do erro para facilitar depuração"
   ]
  }
 ],
 "metadata": {
  "application/vnd.databricks.v1+notebook": {
   "computePreferences": null,
   "dashboards": [],
   "environmentMetadata": {
    "base_environment": "",
    "environment_version": "2"
   },
   "inputWidgetPreferences": null,
   "language": "python",
   "notebookMetadata": {
    "pythonIndentUnit": 4
   },
   "notebookName": "adventureworks_raw-delta_conversion",
   "widgets": {}
  },
  "language_info": {
   "name": "python"
  }
 },
 "nbformat": 4,
 "nbformat_minor": 0
}