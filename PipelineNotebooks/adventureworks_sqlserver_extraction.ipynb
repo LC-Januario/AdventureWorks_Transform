{
 "cells": [
  {
   "cell_type": "code",
   "execution_count": 0,
   "metadata": {
    "application/vnd.databricks.v1+cell": {
     "cellMetadata": {
      "byteLimit": 2048000,
      "rowLimit": 10000
     },
     "inputWidgets": {},
     "nuid": "437ece36-7cd8-4fc4-9e52-c0374350ae56",
     "showTitle": false,
     "tableResultSettingsMap": {},
     "title": ""
    }
   },
   "outputs": [
    {
     "output_type": "stream",
     "name": "stdout",
     "output_type": "stream",
     "text": [
      "Requirement already satisfied: pyodbc in /databricks/python3/lib/python3.11/site-packages (4.0.39)\n\u001B[43mNote: you may need to restart the kernel using %restart_python or dbutils.library.restartPython() to use updated packages.\u001B[0m\n"
     ]
    }
   ],
   "source": [
    "%pip install pyodbc\n"
   ]
  },
  {
   "cell_type": "code",
   "execution_count": 0,
   "metadata": {
    "application/vnd.databricks.v1+cell": {
     "cellMetadata": {
      "byteLimit": 2048000,
      "rowLimit": 10000
     },
     "inputWidgets": {},
     "nuid": "8f043c97-d59b-43f5-a2ee-270736c16625",
     "showTitle": false,
     "tableResultSettingsMap": {},
     "title": ""
    }
   },
   "outputs": [],
   "source": [
    "dbutils.library.restartPython()"
   ]
  },
  {
   "cell_type": "code",
   "execution_count": 0,
   "metadata": {
    "application/vnd.databricks.v1+cell": {
     "cellMetadata": {
      "byteLimit": 2048000,
      "rowLimit": 10000
     },
     "inputWidgets": {},
     "nuid": "ceb4a2b3-e89f-46fa-bc07-90594814f577",
     "showTitle": false,
     "tableResultSettingsMap": {},
     "title": ""
    }
   },
   "outputs": [],
   "source": [
    "driver = \"com.microsoft.sqlserver.jdbc.SQLServerDriver\"\n"
   ]
  },
  {
   "cell_type": "code",
   "execution_count": 0,
   "metadata": {
    "application/vnd.databricks.v1+cell": {
     "cellMetadata": {
      "byteLimit": 2048000,
      "rowLimit": 10000
     },
     "inputWidgets": {},
     "nuid": "d341a39c-71f6-467a-ae1c-43dc36b8e4ff",
     "showTitle": false,
     "tableResultSettingsMap": {},
     "title": ""
    }
   },
   "outputs": [],
   "source": [
    "connectionProperties = {\n",
    "    'server': dbutils.secrets.get(scope=\"jdbc\", key=\"server\"),\n",
    "    'username': dbutils.secrets.get(scope=\"jdbc\", key=\"username\"),\n",
    "    'password': dbutils.secrets.get(scope=\"jdbc\", key=\"password\"),\n",
    "    'host': dbutils.secrets.get(scope=\"jdbc\", key=\"host\"),\n",
    "    'port': dbutils.secrets.get(scope=\"jdbc\", key=\"port\"),\n",
    "    'database': 'AdventureWorks'\n",
    "}"
   ]
  },
  {
   "cell_type": "code",
   "execution_count": 0,
   "metadata": {
    "application/vnd.databricks.v1+cell": {
     "cellMetadata": {
      "byteLimit": 2048000,
      "rowLimit": 10000
     },
     "inputWidgets": {},
     "nuid": "56650c60-8da8-4309-bd1a-95e541f51a1a",
     "showTitle": false,
     "tableResultSettingsMap": {},
     "title": ""
    }
   },
   "outputs": [],
   "source": [
    "host= dbutils.secrets.get(scope=\"jdbc\", key=\"host\")\n",
    "port= dbutils.secrets.get(scope=\"jdbc\", key=\"port\")\n",
    "database= 'AdventureWorks'\n",
    "username= dbutils.secrets.get(scope=\"jdbc\", key=\"username\")\n",
    "password= dbutils.secrets.get(scope=\"jdbc\", key=\"password\")"
   ]
  },
  {
   "cell_type": "code",
   "execution_count": 0,
   "metadata": {
    "application/vnd.databricks.v1+cell": {
     "cellMetadata": {
      "byteLimit": 2048000,
      "rowLimit": 10000
     },
     "inputWidgets": {},
     "nuid": "ff3ea0ea-1257-40af-9199-aaf0562b2477",
     "showTitle": false,
     "tableResultSettingsMap": {},
     "title": ""
    }
   },
   "outputs": [],
   "source": [
    "jdbcUrl = f\"jdbc:sqlserver://{host}:{port};databaseName={database}\"\n",
    "\n"
   ]
  },
  {
   "cell_type": "code",
   "execution_count": 0,
   "metadata": {
    "application/vnd.databricks.v1+cell": {
     "cellMetadata": {
      "byteLimit": 2048000,
      "rowLimit": 10000
     },
     "inputWidgets": {},
     "nuid": "9fd84ac8-666e-4e57-992d-e6410993caec",
     "showTitle": false,
     "tableResultSettingsMap": {},
     "title": ""
    }
   },
   "outputs": [],
   "source": [
    "tables = [\n",
    "    \"PRODUCTION.Product\",\n",
    "    \"HUMANRESOURCES.Employee\",\n",
    "    \"PERSON.CountryRegion\",\n",
    "    \"PRODUCTION.ProductSubcategory\",\n",
    "    \"PRODUCTION.ProductCategory\",\n",
    "    \"SALES.Customer\",\n",
    "    \"SALES.SalesOrderDetail\",\n",
    "    \"SALES.SalesOrderHeader\",\n",
    "    \"SALES.SalesOrderHeaderSalesReason\",\n",
    "    \"SALES.SalesPerson\",\n",
    "    \"SALES.SalesReason\",\n",
    "    \"SALES.SalesTerritory\",\n",
    "    \"PERSON.Person\"\n",
    "]\n"
   ]
  },
  {
   "cell_type": "code",
   "execution_count": 0,
   "metadata": {
    "application/vnd.databricks.v1+cell": {
     "cellMetadata": {
      "byteLimit": 2048000,
      "rowLimit": 10000
     },
     "inputWidgets": {},
     "nuid": "4430175f-c31c-4590-8262-917d2a0d6384",
     "showTitle": false,
     "tableResultSettingsMap": {},
     "title": ""
    }
   },
   "outputs": [],
   "source": [
    "target_dir = \"/Volumes/ted_dev/dbt_adventureworks_raw/raw\""
   ]
  },
  {
   "cell_type": "code",
   "execution_count": 0,
   "metadata": {
    "application/vnd.databricks.v1+cell": {
     "cellMetadata": {
      "byteLimit": 2048000,
      "rowLimit": 10000
     },
     "inputWidgets": {},
     "nuid": "78e934e6-c920-48a8-b9b5-a2fa908e642c",
     "showTitle": false,
     "tableResultSettingsMap": {},
     "title": ""
    }
   },
   "outputs": [],
   "source": [
    "for full_table in tables:\n",
    "    schema, table = full_table.split(\".\")\n",
    "    temp_path = f\"{target_dir}/_tmp_{table}\"      # Temp write location\n",
    "    final_path = f\"{target_dir}/{table}.parquet\"  # Final file path\n",
    "\n",
    "    # Define query for JDBC read\n",
    "    df = spark.read.format(\"jdbc\") \\\n",
    "        .option(\"url\", jdbcUrl) \\\n",
    "        .option(\"dbtable\", full_table) \\\n",
    "        .option(\"user\", username) \\\n",
    "        .option(\"password\", password) \\\n",
    "        .option(\"driver\", \"com.microsoft.sqlserver.jdbc.SQLServerDriver\") \\\n",
    "        .option(\"encrypt\", \"true\") \\\n",
    "        .option(\"trustServerCertificate\", \"true\") \\\n",
    "        .load()\n",
    "\n",
    "    df.coalesce(1).write.mode(\"overwrite\").parquet(temp_path)\n",
    "\n",
    "    # List part file from temp folder\n",
    "    files = dbutils.fs.ls(temp_path)\n",
    "    parquet_file = [f.path for f in files if f.path.endswith(\".parquet\")][0]\n",
    "\n",
    "    # Move it to final path\n",
    "    dbutils.fs.cp(parquet_file, final_path)\n",
    "\n",
    "    # Clean up temp folder\n",
    "    dbutils.fs.rm(temp_path, True)"
   ]
  }
 ],
 "metadata": {
  "application/vnd.databricks.v1+notebook": {
   "computePreferences": null,
   "dashboards": [],
   "environmentMetadata": {
    "base_environment": "",
    "environment_version": "2"
   },
   "inputWidgetPreferences": null,
   "language": "python",
   "notebookMetadata": {
    "mostRecentlyExecutedCommandWithImplicitDF": {
     "commandId": -1,
     "dataframes": [
      "_sqldf"
     ]
    },
    "pythonIndentUnit": 4
   },
   "notebookName": "adventureworks_sqlserver_extraction",
   "widgets": {}
  },
  "language_info": {
   "name": "python"
  }
 },
 "nbformat": 4,
 "nbformat_minor": 0
}